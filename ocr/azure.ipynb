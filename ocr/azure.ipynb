{
 "cells": [
  {
   "cell_type": "code",
   "execution_count": 13,
   "metadata": {},
   "outputs": [],
   "source": [
    "from azure.cognitiveservices.vision.computervision import ComputerVisionClient\n",
    "from azure.cognitiveservices.vision.computervision.models import OperationStatusCodes\n",
    "from msrest.authentication import CognitiveServicesCredentials\n",
    "import json\n",
    "import io\n",
    "from azure.cognitiveservices.vision.computervision import ComputerVisionClient\n",
    "from azure.cognitiveservices.vision.computervision.models import OperationStatusCodes\n",
    "from msrest.authentication import CognitiveServicesCredentials\n",
    "from PIL import Image\n",
    "import requests\n",
    "import time"
   ]
  },
  {
   "cell_type": "code",
   "execution_count": 29,
   "metadata": {},
   "outputs": [
    {
     "data": {
      "text/plain": [
       "'73005199085e4933974e9f549b30488f'"
      ]
     },
     "execution_count": 29,
     "metadata": {},
     "output_type": "execute_result"
    }
   ],
   "source": [
    "\n",
    "api_key = \"fd66dc3edc5b422ab1456c59e05cacf1\"\n",
    "endpoint = \"https://dhanushkumar.cognitiveservices.azure.com/\"\n",
    "\n",
    "\"fd66dc3edc5b422ab1456c59e05cacf1\"\n",
    "\"73005199085e4933974e9f549b30488f\""
   ]
  },
  {
   "cell_type": "code",
   "execution_count": null,
   "metadata": {},
   "outputs": [],
   "source": [
    "import time\n",
    "from PIL import Image\n",
    "from array import array\n",
    "from azure.cognitiveservices.vision.computervision import ComputerVisionClient\n",
    "from azure.cognitiveservices.vision.computervision.models import OperationStatusCodes\n",
    "from azure.cognitiveservices.vision.computervision.models import VisualFeatureTypes\n",
    "from msrest.authentication import CognitiveServicesCredentials\n",
    "\n",
    "API_KEY = \"fd66dc3edc5b422ab1456c59e05cacf1\"\n",
    "ENDPOINT = \"https://dhanushkumar.cognitiveservices.azure.com/\"\n",
    "computervision_client = ComputerVisionClient(ENDPOINT, CognitiveServicesCredentials(API_KEY))\n",
    "\n",
    "print(\"===== START - Read File - remote =====\")\n",
    "read_image_url = \"IMAGE_URL\"\n",
    "\n",
    "\n",
    "read_response = computervision_client.read(read_image_url,  raw=True)\n",
    "read_operation_location = read_response.headers[\"Operation-Location\"]\n",
    "operation_id = read_operation_location.split(\"/\")[-1]\n",
    "\n",
    "while True:\n",
    "    read_result = computervision_client.get_read_result(operation_id)\n",
    "    if read_result.status not in ['notStarted', 'running']:\n",
    "        break\n",
    "    time.sleep(1)\n",
    "\n",
    "if read_result.status == OperationStatusCodes.succeeded:\n",
    "    for text_result in read_result.analyze_result.read_results:\n",
    "        for line in text_result.lines:\n",
    "            print(line.text)\n",
    "print()\n",
    "print(\"===== END - Read File - remote =====\")"
   ]
  },
  {
   "cell_type": "code",
   "execution_count": 27,
   "metadata": {},
   "outputs": [],
   "source": [
    "#azure api for loacal image"
   ]
  },
  {
   "cell_type": "code",
   "execution_count": 25,
   "metadata": {},
   "outputs": [
    {
     "name": "stdout",
     "output_type": "stream",
     "text": [
      "===== START - Read File - remote =====\n",
      "\n",
      "Text successfully written in output file\n",
      "\n",
      "===== END - Read File - remote =====\n"
     ]
    }
   ],
   "source": [
    "import os\n",
    "import io\n",
    "import json\n",
    "import time\n",
    "from array import array\n",
    "from azure.cognitiveservices.vision.computervision import ComputerVisionClient\n",
    "from azure.cognitiveservices.vision.computervision.models import OperationStatusCodes\n",
    "from azure.cognitiveservices.vision.computervision.models import VisualFeatureTypes\n",
    "from msrest.authentication import CognitiveServicesCredentials\n",
    "import requests\n",
    "from PIL import Image, ImageDraw, ImageFont\n",
    "\n",
    "\n",
    "API_KEY = \"73005199085e4933974e9f549b30488f\"\n",
    "ENDPOINT = \"https://dhanushkumar.cognitiveservices.azure.com/\"\n",
    "computervision_client = ComputerVisionClient(ENDPOINT, CognitiveServicesCredentials(API_KEY))\n",
    "\n",
    "print(\"===== START - Read File - remote =====\")\n",
    "local_image  = '1.jpeg'\n",
    "read_response = computervision_client.read_in_stream(open(local_image, 'rb'), language ='en', raw=True)\n",
    "read_operation_location = read_response.headers[\"Operation-Location\"]\n",
    "operation_id = read_operation_location.split(\"/\")[-1]\n",
    "\n",
    "'''while True:\n",
    "    read_result = computervision_client.get_read_result(operation_id)\n",
    "    if read_result.status not in ['notStarted', 'running']:\n",
    "        break\n",
    "    time.sleep(1)'''\n",
    "\n",
    "if read_result.status == OperationStatusCodes.succeeded:\n",
    "    text = ''\n",
    "    for text_result in read_result.analyze_result.read_results:\n",
    "        for line in text_result.lines:\n",
    "                text += line.text + ' '\n",
    "                text += '\\n'\n",
    "        open('output3.txt', 'w').write(text)\n",
    "        print()\n",
    "    print(\"Text successfully written in output file\")\n",
    "print()\n",
    "print(\"===== END - Read File - remote =====\")"
   ]
  },
  {
   "cell_type": "code",
   "execution_count": 26,
   "metadata": {},
   "outputs": [
    {
     "name": "stdout",
     "output_type": "stream",
     "text": [
      "===== START - Read File - remote =====\n",
      "Text successfully written in output image (output_image.png)\n",
      "===== END - Read File - remote =====\n"
     ]
    }
   ],
   "source": [
    "import os\n",
    "import io\n",
    "import json\n",
    "import time\n",
    "from array import array\n",
    "from azure.cognitiveservices.vision.computervision import ComputerVisionClient\n",
    "from azure.cognitiveservices.vision.computervision.models import OperationStatusCodes\n",
    "from azure.cognitiveservices.vision.computervision.models import VisualFeatureTypes\n",
    "from msrest.authentication import CognitiveServicesCredentials\n",
    "import requests\n",
    "from PIL import Image, ImageDraw, ImageFont\n",
    "\n",
    "API_KEY = \"fd66dc3edc5b422ab1456c59e05cacf1\"\n",
    "ENDPOINT = \"https://dhanushkumar.cognitiveservices.azure.com/\"\n",
    "computervision_client = ComputerVisionClient(ENDPOINT, CognitiveServicesCredentials(API_KEY))\n",
    "\n",
    "print(\"===== START - Read File - remote =====\")\n",
    "local_image = 'poc1.jpeg'\n",
    "read_response = computervision_client.read_in_stream(open(local_image, 'rb'), language='en', raw=True)\n",
    "read_operation_location = read_response.headers[\"Operation-Location\"]\n",
    "operation_id = read_operation_location.split(\"/\")[-1]\n",
    "\n",
    "while True:\n",
    "    read_result = computervision_client.get_read_result(operation_id)\n",
    "    if read_result.status not in ['notStarted', 'running']:\n",
    "        break\n",
    "    time.sleep(1)\n",
    "\n",
    "if read_result.status == OperationStatusCodes.succeeded:\n",
    "    text = ''\n",
    "    for text_result in read_result.analyze_result.read_results:\n",
    "        for line in text_result.lines:\n",
    "            text += line.text + ' '\n",
    "            text += '\\n'\n",
    "\n",
    "    # Create an image with the extracted text\n",
    "    image = Image.new('RGB', (800, 600), color='white')\n",
    "    draw = ImageDraw.Draw(image)\n",
    "    font = ImageFont.load_default()\n",
    "\n",
    "    # You may need to adjust the coordinates and font size as per your requirements\n",
    "    draw.text((10, 10), text, fill='black', font=font)\n",
    "\n",
    "    # Save the image\n",
    "    image.save('output_image.png')\n",
    "    print(\"Text successfully written in output image (output_image.png)\")\n",
    "\n",
    "print(\"===== END - Read File - remote =====\")\n"
   ]
  }
 ],
 "metadata": {
  "kernelspec": {
   "display_name": "Python 3",
   "language": "python",
   "name": "python3"
  },
  "language_info": {
   "codemirror_mode": {
    "name": "ipython",
    "version": 3
   },
   "file_extension": ".py",
   "mimetype": "text/x-python",
   "name": "python",
   "nbconvert_exporter": "python",
   "pygments_lexer": "ipython3",
   "version": "3.9.18"
  }
 },
 "nbformat": 4,
 "nbformat_minor": 2
}
